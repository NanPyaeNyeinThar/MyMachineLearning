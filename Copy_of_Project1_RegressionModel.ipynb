{
  "nbformat": 4,
  "nbformat_minor": 0,
  "metadata": {
    "colab": {
      "provenance": [],
      "authorship_tag": "ABX9TyNkH4/RrW6Xa77Mjerh2GHK",
      "include_colab_link": true
    },
    "kernelspec": {
      "name": "python3",
      "display_name": "Python 3"
    },
    "language_info": {
      "name": "python"
    }
  },
  "cells": [
    {
      "cell_type": "markdown",
      "metadata": {
        "id": "view-in-github",
        "colab_type": "text"
      },
      "source": [
        "<a href=\"https://colab.research.google.com/github/NanPyaeNyeinThar/MyMachineLearning/blob/main/Copy_of_Project1_RegressionModel.ipynb\" target=\"_parent\"><img src=\"https://colab.research.google.com/assets/colab-badge.svg\" alt=\"Open In Colab\"/></a>"
      ]
    },
    {
      "cell_type": "code",
      "execution_count": 173,
      "metadata": {
        "id": "0GCSIlBgYSIl"
      },
      "outputs": [],
      "source": [
        "import pandas as pd\n",
        "from sklearn.model_selection import train_test_split\n",
        "\n",
        "# Read the CSV file into a pandas DataFrame\n",
        "data = pd.read_csv(\"https://raw.githubusercontent.com/NanPyaeNyeinThar/MyMachineLearning/main/life%20expectancy.csv\")\n",
        "\n",
        "#remove missing data\n",
        "data.dropna(subset=['Life Expectancy World Bank','Health Expenditure %','Education Expenditure %','Corruption','Unemployment','CO2'], inplace=True)\n",
        "\n",
        "# Separate the target variable from the features\n",
        "#X = data[['Health Expenditure %','Education Expenditure %']].values\n",
        "X = data[['Corruption','Unemployment']].values\n",
        "#X = data[['CO2']].values\n",
        "\n",
        "y = data['Life Expectancy World Bank'].values\n",
        "\n",
        "X_train, X_test, y_train, y_test = train_test_split(X,y, test_size = 0.4, random_state = 42)"
      ]
    },
    {
      "cell_type": "code",
      "source": [
        "from sklearn.preprocessing import StandardScaler, PolynomialFeatures\n",
        "from sklearn.linear_model import LinearRegression\n",
        "from sklearn.impute import SimpleImputer\n",
        "from sklearn.pipeline import Pipeline\n",
        "from sklearn.linear_model import LinearRegression, Ridge, Lasso\n",
        "from sklearn.tree import DecisionTreeRegressor\n",
        "from sklearn.ensemble import RandomForestRegressor\n",
        "from sklearn.metrics import mean_absolute_error, mean_squared_error, r2_score\n"
      ],
      "metadata": {
        "id": "2JaiEgCpjYxv"
      },
      "execution_count": 174,
      "outputs": []
    },
    {
      "cell_type": "code",
      "source": [
        "steps = [(\"imp_mean\", SimpleImputer()), # cleaning the data - replace the missing data with average\n",
        "         (\"scale\", StandardScaler()),  #standardizing the data\n",
        "         (\"polytransform\", PolynomialFeatures(degree =7)),\n",
        "         (\"regressor\",Ridge()) ]\n",
        "         #(\"regressor\",Lasso()) ]\n",
        "         #(\"regressor\",LinearRegression()) ] # linear model - ML\n",
        "\n",
        "pipeline = Pipeline(steps)\n",
        "\n",
        "model = pipeline.fit(X_train, y_train)\n",
        "\n",
        "y_pred = model.predict(X_train)\n",
        "\n",
        "poly_regressor = pipeline.named_steps['regressor']\n"
      ],
      "metadata": {
        "id": "50N3-N7xrBUL"
      },
      "execution_count": 175,
      "outputs": []
    },
    {
      "cell_type": "code",
      "source": [
        "from sklearn.metrics import mean_absolute_error, mean_squared_error, r2_score\n",
        "\n",
        "mae = mean_absolute_error(y_train, y_pred)\n",
        "mse = mean_squared_error(y_train, y_pred)\n",
        "r2 = r2_score(y_train,y_pred)\n",
        "print('training')\n",
        "print('mae:', round(mae), 'mse:', round(mse), 'r2 score:', round(r2, 2))\n",
        "\n",
        "y_pred = model.predict(X_test)\n",
        "mae = mean_absolute_error(y_test, y_pred)\n",
        "mse = mean_squared_error(y_test, y_pred)\n",
        "r2 = r2_score(y_test,y_pred)\n",
        "print('testing')\n",
        "print('mae:', round(mae), 'mse:', round(mse), 'r2 score:', round(r2, 2))"
      ],
      "metadata": {
        "id": "4ODRtTRIrWLl",
        "outputId": "e2c398b9-9bb9-4278-e186-50943b6d0000",
        "colab": {
          "base_uri": "https://localhost:8080/"
        }
      },
      "execution_count": 176,
      "outputs": [
        {
          "output_type": "stream",
          "name": "stdout",
          "text": [
            "training\n",
            "mae: 5 mse: 39 r2 score: 0.27\n",
            "testing\n",
            "mae: 6 mse: 49 r2 score: 0.12\n"
          ]
        }
      ]
    }
  ]
}