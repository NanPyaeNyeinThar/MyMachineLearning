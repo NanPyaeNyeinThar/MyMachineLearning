{
  "cells": [
    {
      "cell_type": "markdown",
      "metadata": {
        "id": "view-in-github",
        "colab_type": "text"
      },
      "source": [
        "<a href=\"https://colab.research.google.com/github/NanPyaeNyeinThar/MyMachineLearning/blob/main/Classification/Lab1_KNN_Classifier.ipynb\" target=\"_parent\"><img src=\"https://colab.research.google.com/assets/colab-badge.svg\" alt=\"Open In Colab\"/></a>"
      ]
    },
    {
      "cell_type": "code",
      "execution_count": null,
      "metadata": {
        "id": "N7iZDUwm2JJy"
      },
      "outputs": [],
      "source": [
        "import pandas as pd\n",
        "\n",
        "df=pd.read_csv('..\\\\data\\\\fraud.csv', index_col = 0)\n",
        "\n",
        "# Check your data and define X and y : What is X and what is y?\n",
        "y = df['Class'].values #target\n",
        "df = df.iloc[:,1:]\n",
        "X = df.drop(columns = 'Class').values #remaining columns"
      ]
    },
    {
      "cell_type": "code",
      "execution_count": null,
      "metadata": {
        "id": "LP13h31n2JJz"
      },
      "outputs": [],
      "source": [
        "# perform train - test split. (40% as testing and 60% as training)\n",
        "from sklearn.model_selection import train_test_split\n",
        "\n",
        "#X_train, X_test, y_train, y_test = train_test_split()\n",
        "\n",
        "X_train, X_test, y_train, y_test = train_test_split(X,y,\n",
        "                                    test_size = 0.40,\n",
        "                                    random_state=1)\n",
        "X_test.shape"
      ]
    },
    {
      "cell_type": "code",
      "execution_count": null,
      "metadata": {
        "id": "7lSWdrma2JJz"
      },
      "outputs": [],
      "source": [
        "#--------------------------------------------------\n",
        "## ----------- K-NN Classifier ------------------##\n",
        "#--------------------------------------------------\n",
        "from sklearn.preprocessing import StandardScaler\n",
        "from sklearn.pipeline import Pipeline\n",
        "from sklearn.neighbors import KNeighborsClassifier\n",
        "\n",
        "steps = [('scaler', StandardScaler()),\n",
        "         ('knn', KNeighborsClassifier(n_neighbors = 3))]\n",
        "\n",
        "knn_pipeline = Pipeline(steps)\n",
        "knn_pipeline.fit(X_train, y_train)"
      ]
    },
    {
      "cell_type": "code",
      "execution_count": null,
      "metadata": {
        "id": "4-kz75Bf2JJz"
      },
      "outputs": [],
      "source": [
        "#--------------------------------------------------\n",
        "## Model Evaluation ##\n",
        "#--------------------------------------------------\n",
        "from sklearn.metrics import classification_report\n",
        "from sklearn.metrics import confusion_matrix\n",
        "from sklearn.metrics import roc_auc_score\n",
        "\n",
        "\n",
        "ypred_test = knn_pipeline.predict(X_test)\n",
        "mat_clf = confusion_matrix(y_test, ypred_test)\n",
        "report_clf = classification_report(y_test, ypred_test)\n",
        "\n",
        "print(mat_clf)\n",
        "print(report_clf)\n",
        "\n",
        "ypred_testP = knn_pipeline.predict_proba(X_test)\n",
        "auc = roc_auc_score(y_test, ypred_testP[:,1])\n",
        "print(auc)"
      ]
    },
    {
      "cell_type": "code",
      "execution_count": null,
      "metadata": {
        "id": "C1xKSjAN2JJ0"
      },
      "outputs": [],
      "source": [
        "ypred_train = knn_pipeline.predict(X_train)\n",
        "mat_clf = confusion_matrix(y_train, ypred_train)\n",
        "report_clf = classification_report(y_train, ypred_train)\n",
        "\n",
        "print(mat_clf)\n",
        "print(report_clf)\n",
        "\n",
        "ypred_trainP = knn_pipeline.predict_proba(X_train)\n",
        "auc = roc_auc_score(y_train, ypred_trainP[:,1])\n",
        "print(auc)"
      ]
    }
  ],
  "metadata": {
    "kernelspec": {
      "display_name": "Python 3",
      "language": "python",
      "name": "python3"
    },
    "language_info": {
      "codemirror_mode": {
        "name": "ipython",
        "version": 3
      },
      "file_extension": ".py",
      "mimetype": "text/x-python",
      "name": "python",
      "nbconvert_exporter": "python",
      "pygments_lexer": "ipython3",
      "version": "3.9.13"
    },
    "orig_nbformat": 4,
    "vscode": {
      "interpreter": {
        "hash": "ebfc0a8d552866b0d59eba665220a57de3bc06f3ac643b8bef38dd8f66781fdd"
      }
    },
    "colab": {
      "provenance": [],
      "include_colab_link": true
    }
  },
  "nbformat": 4,
  "nbformat_minor": 0
}