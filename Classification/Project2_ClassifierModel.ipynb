{
  "cells": [
    {
      "cell_type": "markdown",
      "metadata": {
        "id": "view-in-github",
        "colab_type": "text"
      },
      "source": [
        "<a href=\"https://colab.research.google.com/github/NanPyaeNyeinThar/MyMachineLearning/blob/main/Classification/News_classifier.ipynb\" target=\"_parent\"><img src=\"https://colab.research.google.com/assets/colab-badge.svg\" alt=\"Open In Colab\"/></a>"
      ]
    },
    {
      "cell_type": "code",
      "execution_count": 38,
      "metadata": {
        "id": "g4GugSm02rVb",
        "outputId": "6dae7820-776f-4070-a62d-26529d2f0dc1",
        "colab": {
          "base_uri": "https://localhost:8080/"
        }
      },
      "outputs": [
        {
          "output_type": "stream",
          "name": "stdout",
          "text": [
            "(4846, 10070)\n"
          ]
        }
      ],
      "source": [
        "import pandas as pd\n",
        "from sklearn.feature_extraction.text import TfidfVectorizer\n",
        "from sklearn.model_selection import train_test_split\n",
        "import scipy.sparse as sp\n",
        "\n",
        "# Load your dataset\n",
        "df = pd.read_csv('https://raw.githubusercontent.com/NanPyaeNyeinThar/SML_Teaching/main/data/news_data.csv',  encoding='latin-1', header=None)\n",
        "df.columns = ['class', 'news']\n",
        "label_mapping = {'positive': 1, 'negative': -1, 'neutral': 0}\n",
        "df['class'] = df['class'].map(label_mapping)\n",
        "\n",
        "vectorizer = TfidfVectorizer() #max_features=1000\n",
        "\n",
        "X = vectorizer.fit_transform(df['news'])\n",
        "y = df['class']\n",
        "\n",
        "print(X.shape)\n"
      ]
    },
    {
      "cell_type": "code",
      "execution_count": 39,
      "metadata": {
        "id": "wb8SXB3H2rVc",
        "outputId": "95c0739a-be5f-4bc0-898b-331f2ffd16f8",
        "colab": {
          "base_uri": "https://localhost:8080/"
        }
      },
      "outputs": [
        {
          "output_type": "execute_result",
          "data": {
            "text/plain": [
              "(1939, 10070)"
            ]
          },
          "metadata": {},
          "execution_count": 39
        }
      ],
      "source": [
        "from sklearn.model_selection import train_test_split\n",
        "X_train, X_test, y_train, y_test = train_test_split(X,y,\n",
        "                                    test_size = 0.40,\n",
        "                                    random_state=1)\n",
        "X_test.shape"
      ]
    },
    {
      "cell_type": "code",
      "execution_count": 40,
      "metadata": {
        "id": "Ww-l5h7z2rVd",
        "outputId": "c94f1c38-d5b1-4770-9424-83f9258b67b0",
        "colab": {
          "base_uri": "https://localhost:8080/"
        }
      },
      "outputs": [
        {
          "output_type": "stream",
          "name": "stdout",
          "text": [
            "[[  67    2  178]\n",
            " [  47   77 1006]\n",
            " [  42    4  516]]\n",
            "              precision    recall  f1-score   support\n",
            "\n",
            "          -1       0.43      0.27      0.33       247\n",
            "           0       0.93      0.07      0.13      1130\n",
            "           1       0.30      0.92      0.46       562\n",
            "\n",
            "    accuracy                           0.34      1939\n",
            "   macro avg       0.55      0.42      0.31      1939\n",
            "weighted avg       0.68      0.34      0.25      1939\n",
            "\n"
          ]
        }
      ],
      "source": [
        "#--------------------------------------------------\n",
        "## ----------- K-NN Classifier ------------------##\n",
        "#--------------------------------------------------\n",
        "from sklearn.preprocessing import StandardScaler\n",
        "from sklearn.pipeline import Pipeline\n",
        "from sklearn.neighbors import KNeighborsClassifier\n",
        "from sklearn.metrics import classification_report\n",
        "from sklearn.metrics import confusion_matrix\n",
        "from sklearn.metrics import roc_auc_score\n",
        "\n",
        "steps = [('scaler', StandardScaler(with_mean=False)),\n",
        "         ('knn', KNeighborsClassifier(n_neighbors = 3))]\n",
        "\n",
        "knn_pipeline = Pipeline(steps)\n",
        "knn_pipeline.fit(X_train, y_train)\n",
        "\n",
        "ypred_test = knn_pipeline.predict(X_test)\n",
        "mat_clf = confusion_matrix(y_test, ypred_test)\n",
        "report_clf = classification_report(y_test, ypred_test)\n",
        "\n",
        "print(mat_clf)\n",
        "print(report_clf)"
      ]
    },
    {
      "cell_type": "code",
      "source": [
        "#--------------------------------------------------\n",
        "## ----------- Logistic Regresion ------------------##\n",
        "#--------------------------------------------------\n",
        "from sklearn.preprocessing import StandardScaler\n",
        "from sklearn.pipeline import Pipeline\n",
        "from sklearn.linear_model import LogisticRegression\n",
        "\n",
        "steps = [('scaler', StandardScaler(with_mean=False)),\n",
        "         ('logReg', LogisticRegression(penalty = \"l2\", C = 1.0, solver='saga', max_iter=5000))]\n",
        "\n",
        "LR_pipeline = Pipeline(steps)\n",
        "LR_pipeline.fit(X_train, y_train)\n",
        "\n",
        "ypred_test = LR_pipeline.predict(X_test)\n",
        "mat_clf = confusion_matrix(y_test, ypred_test)\n",
        "report_clf = classification_report(y_test, ypred_test)\n",
        "\n",
        "print(mat_clf)\n",
        "print(report_clf)\n"
      ],
      "metadata": {
        "id": "oMemWLgBXoVL",
        "outputId": "aaa1ae6a-cdea-4a05-fbaf-eafa9415e245",
        "colab": {
          "base_uri": "https://localhost:8080/"
        }
      },
      "execution_count": 41,
      "outputs": [
        {
          "output_type": "stream",
          "name": "stdout",
          "text": [
            "[[125  81  41]\n",
            " [ 33 950 147]\n",
            " [ 23 238 301]]\n",
            "              precision    recall  f1-score   support\n",
            "\n",
            "          -1       0.69      0.51      0.58       247\n",
            "           0       0.75      0.84      0.79      1130\n",
            "           1       0.62      0.54      0.57       562\n",
            "\n",
            "    accuracy                           0.71      1939\n",
            "   macro avg       0.68      0.63      0.65      1939\n",
            "weighted avg       0.70      0.71      0.70      1939\n",
            "\n"
          ]
        }
      ]
    },
    {
      "cell_type": "code",
      "source": [
        "#--------------------------------------------------\n",
        "## ------------ SVM Classifier ------------------##\n",
        "#--------------------------------------------------\n",
        "from sklearn.preprocessing import StandardScaler\n",
        "from sklearn.pipeline import Pipeline\n",
        "from sklearn.svm import SVC\n",
        "\n",
        "## Linear Kernel  ---------------\n",
        "steps = [('scaler', StandardScaler(with_mean=False)),\n",
        "         ('svc', SVC(kernel = 'linear',\n",
        "                     class_weight='balanced'))]\n",
        "\n",
        "svcL_pipeline = Pipeline(steps)\n",
        "svcL_pipeline.fit(X_train, y_train)\n",
        "\n",
        "ypred_test = svcL_pipeline.predict(X_test)\n",
        "mat_clf = confusion_matrix(y_test, ypred_test)\n",
        "report_clf = classification_report(y_test, ypred_test)\n",
        "\n",
        "print(mat_clf)\n",
        "print(report_clf)"
      ],
      "metadata": {
        "id": "DY6dQSrLa7pw",
        "outputId": "fc6870ed-c38f-4425-eec6-0ee700230d1a",
        "colab": {
          "base_uri": "https://localhost:8080/"
        }
      },
      "execution_count": 42,
      "outputs": [
        {
          "output_type": "stream",
          "name": "stdout",
          "text": [
            "[[122  75  50]\n",
            " [ 43 879 208]\n",
            " [ 41 241 280]]\n",
            "              precision    recall  f1-score   support\n",
            "\n",
            "          -1       0.59      0.49      0.54       247\n",
            "           0       0.74      0.78      0.76      1130\n",
            "           1       0.52      0.50      0.51       562\n",
            "\n",
            "    accuracy                           0.66      1939\n",
            "   macro avg       0.62      0.59      0.60      1939\n",
            "weighted avg       0.65      0.66      0.66      1939\n",
            "\n"
          ]
        }
      ]
    },
    {
      "cell_type": "code",
      "source": [
        "## Polynomial Kernel -----------------------\n",
        "steps = [('scaler', StandardScaler(with_mean=False)),\n",
        "         ('svc', SVC(kernel = 'poly', degree = 3,\n",
        "                     class_weight='balanced'))]\n",
        "\n",
        "svcPoly_pipeline = Pipeline(steps)\n",
        "svcPoly_pipeline.fit(X_train, y_train)\n",
        "\n",
        "ypred_test = svcPoly_pipeline.predict(X_test)\n",
        "mat_clf = confusion_matrix(y_test, ypred_test)\n",
        "report_clf = classification_report(y_test, ypred_test)\n",
        "\n",
        "print(mat_clf)\n",
        "print(report_clf)"
      ],
      "metadata": {
        "id": "KfkqKdRVcZ-J",
        "outputId": "33b907e9-8500-4568-c6ca-b67f2f8183bf",
        "colab": {
          "base_uri": "https://localhost:8080/"
        }
      },
      "execution_count": 43,
      "outputs": [
        {
          "output_type": "stream",
          "name": "stdout",
          "text": [
            "[[   5  241    1]\n",
            " [   2 1121    7]\n",
            " [   4  551    7]]\n",
            "              precision    recall  f1-score   support\n",
            "\n",
            "          -1       0.45      0.02      0.04       247\n",
            "           0       0.59      0.99      0.74      1130\n",
            "           1       0.47      0.01      0.02       562\n",
            "\n",
            "    accuracy                           0.58      1939\n",
            "   macro avg       0.50      0.34      0.27      1939\n",
            "weighted avg       0.53      0.58      0.44      1939\n",
            "\n"
          ]
        }
      ]
    },
    {
      "cell_type": "code",
      "source": [
        "## RBF Kernel -----------------------\n",
        "steps = [('scaler', StandardScaler(with_mean=False)),\n",
        "         ('svc', SVC(kernel = 'rbf', gamma = 'scale',\n",
        "                     class_weight='balanced'))]\n",
        "\n",
        "svcRBF_pipeline = Pipeline(steps)\n",
        "svcRBF_pipeline.fit(X_train, y_train)\n",
        "\n",
        "ypred_test = svcRBF_pipeline.predict(X_test)\n",
        "mat_clf = confusion_matrix(y_test, ypred_test)\n",
        "report_clf = classification_report(y_test, ypred_test)\n",
        "\n",
        "print(mat_clf)\n",
        "print(report_clf)"
      ],
      "metadata": {
        "id": "yC45-ZBJcrP3",
        "outputId": "12c345d1-3a97-40ab-8921-6c2f3c54e975",
        "colab": {
          "base_uri": "https://localhost:8080/"
        }
      },
      "execution_count": 44,
      "outputs": [
        {
          "output_type": "stream",
          "name": "stdout",
          "text": [
            "[[ 119  104   24]\n",
            " [  22 1046   62]\n",
            " [  34  308  220]]\n",
            "              precision    recall  f1-score   support\n",
            "\n",
            "          -1       0.68      0.48      0.56       247\n",
            "           0       0.72      0.93      0.81      1130\n",
            "           1       0.72      0.39      0.51       562\n",
            "\n",
            "    accuracy                           0.71      1939\n",
            "   macro avg       0.71      0.60      0.63      1939\n",
            "weighted avg       0.71      0.71      0.69      1939\n",
            "\n"
          ]
        }
      ]
    },
    {
      "cell_type": "code",
      "execution_count": 45,
      "metadata": {
        "id": "RTuPXUK82rVd",
        "outputId": "fe7c53b4-19b4-4137-fc68-069461a39bf6",
        "colab": {
          "base_uri": "https://localhost:8080/"
        }
      },
      "outputs": [
        {
          "output_type": "stream",
          "name": "stdout",
          "text": [
            "[[100  89  58]\n",
            " [ 77 787 266]\n",
            " [ 67 260 235]]\n",
            "              precision    recall  f1-score   support\n",
            "\n",
            "          -1       0.41      0.40      0.41       247\n",
            "           0       0.69      0.70      0.69      1130\n",
            "           1       0.42      0.42      0.42       562\n",
            "\n",
            "    accuracy                           0.58      1939\n",
            "   macro avg       0.51      0.51      0.51      1939\n",
            "weighted avg       0.58      0.58      0.58      1939\n",
            "\n"
          ]
        }
      ],
      "source": [
        "#--------------------------------------------------\n",
        "## ----------- Naive-Bayes Classifier ------------------##\n",
        "#--------------------------------------------------\n",
        "## GaussianNB  ---------------\n",
        "from sklearn.naive_bayes import GaussianNB\n",
        "gnb = GaussianNB()\n",
        "gnb.fit(X_train.toarray(), y_train)\n",
        "\n",
        "ypred_test = gnb.predict(X_test.toarray())\n",
        "mat_clf = confusion_matrix(y_test, ypred_test)\n",
        "report_clf = classification_report(y_test, ypred_test)\n",
        "\n",
        "print(mat_clf)\n",
        "print(report_clf)"
      ]
    },
    {
      "cell_type": "code",
      "source": [
        "## MultinomialNB  ---------------\n",
        "from sklearn.naive_bayes import MultinomialNB\n",
        "mnb = MultinomialNB(alpha=1.0)\n",
        "mnb.fit(X_train.toarray(), y_train)\n",
        "\n",
        "ypred_test = mnb.predict(X_test.toarray())\n",
        "mat_clf = confusion_matrix(y_test, ypred_test)\n",
        "report_clf = classification_report(y_test, ypred_test)\n",
        "\n",
        "print(mat_clf)\n",
        "print(report_clf)"
      ],
      "metadata": {
        "id": "yBG8UrYxdUvk",
        "outputId": "e2a4fdc5-14bd-487b-813f-8d179e1b70b8",
        "colab": {
          "base_uri": "https://localhost:8080/"
        }
      },
      "execution_count": 46,
      "outputs": [
        {
          "output_type": "stream",
          "name": "stdout",
          "text": [
            "[[   4  178   65]\n",
            " [   0 1119   11]\n",
            " [   1  424  137]]\n",
            "              precision    recall  f1-score   support\n",
            "\n",
            "          -1       0.80      0.02      0.03       247\n",
            "           0       0.65      0.99      0.78      1130\n",
            "           1       0.64      0.24      0.35       562\n",
            "\n",
            "    accuracy                           0.65      1939\n",
            "   macro avg       0.70      0.42      0.39      1939\n",
            "weighted avg       0.67      0.65      0.56      1939\n",
            "\n"
          ]
        }
      ]
    },
    {
      "cell_type": "code",
      "source": [
        "## BernoulliNB  ---------------\n",
        "from sklearn.naive_bayes import BernoulliNB\n",
        "bnb = BernoulliNB(alpha=1.0)\n",
        "bnb.fit(X_train, y_train)\n",
        "\n",
        "ypred_test = mnb.predict(X_test.toarray())\n",
        "mat_clf = confusion_matrix(y_test, ypred_test)\n",
        "report_clf = classification_report(y_test, ypred_test)\n",
        "\n",
        "print(mat_clf)\n",
        "print(report_clf)"
      ],
      "metadata": {
        "id": "5l9jIvgTd93E",
        "outputId": "495dbff1-2ae5-40dd-dd00-5e96dabc9800",
        "colab": {
          "base_uri": "https://localhost:8080/"
        }
      },
      "execution_count": 47,
      "outputs": [
        {
          "output_type": "stream",
          "name": "stdout",
          "text": [
            "[[   4  178   65]\n",
            " [   0 1119   11]\n",
            " [   1  424  137]]\n",
            "              precision    recall  f1-score   support\n",
            "\n",
            "          -1       0.80      0.02      0.03       247\n",
            "           0       0.65      0.99      0.78      1130\n",
            "           1       0.64      0.24      0.35       562\n",
            "\n",
            "    accuracy                           0.65      1939\n",
            "   macro avg       0.70      0.42      0.39      1939\n",
            "weighted avg       0.67      0.65      0.56      1939\n",
            "\n"
          ]
        }
      ]
    },
    {
      "cell_type": "code",
      "execution_count": 47,
      "metadata": {
        "id": "qM6xH3x42rVd"
      },
      "outputs": [],
      "source": []
    }
  ],
  "metadata": {
    "kernelspec": {
      "display_name": "base",
      "language": "python",
      "name": "python3"
    },
    "language_info": {
      "codemirror_mode": {
        "name": "ipython",
        "version": 3
      },
      "file_extension": ".py",
      "mimetype": "text/x-python",
      "name": "python",
      "nbconvert_exporter": "python",
      "pygments_lexer": "ipython3",
      "version": "3.9.13"
    },
    "colab": {
      "provenance": [],
      "include_colab_link": true
    }
  },
  "nbformat": 4,
  "nbformat_minor": 0
}
