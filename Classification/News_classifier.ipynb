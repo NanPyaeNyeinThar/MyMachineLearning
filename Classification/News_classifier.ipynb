{
  "cells": [
    {
      "cell_type": "markdown",
      "metadata": {
        "id": "view-in-github",
        "colab_type": "text"
      },
      "source": [
        "<a href=\"https://colab.research.google.com/github/NanPyaeNyeinThar/MyMachineLearning/blob/main/Classification/News_classifier.ipynb\" target=\"_parent\"><img src=\"https://colab.research.google.com/assets/colab-badge.svg\" alt=\"Open In Colab\"/></a>"
      ]
    },
    {
      "cell_type": "code",
      "execution_count": 125,
      "metadata": {
        "id": "g4GugSm02rVb",
        "colab": {
          "base_uri": "https://localhost:8080/"
        },
        "outputId": "df3da0b8-90e7-4394-cb2d-48180a37ff72"
      },
      "outputs": [
        {
          "output_type": "stream",
          "name": "stdout",
          "text": [
            "(4846, 10070)\n"
          ]
        }
      ],
      "source": [
        "import pandas as pd\n",
        "from sklearn.feature_extraction.text import TfidfVectorizer\n",
        "from sklearn.model_selection import train_test_split\n",
        "import scipy.sparse as sp\n",
        "\n",
        "# Load your dataset\n",
        "df = pd.read_csv('https://raw.githubusercontent.com/NanPyaeNyeinThar/SML_Teaching/main/data/news_data.csv',  encoding='latin-1', header=None)\n",
        "df.columns = ['class', 'news']\n",
        "label_mapping = {'positive': 1, 'negative': -1, 'neutral': 0}\n",
        "df['class'] = df['class'].map(label_mapping)\n",
        "\n",
        "vectorizer = TfidfVectorizer() #max_features=1000\n",
        "\n",
        "X = vectorizer.fit_transform(df['news'])\n",
        "y = df['class']\n",
        "\n",
        "print(X.shape)\n"
      ]
    },
    {
      "cell_type": "code",
      "execution_count": 135,
      "metadata": {
        "id": "wb8SXB3H2rVc",
        "colab": {
          "base_uri": "https://localhost:8080/"
        },
        "outputId": "363d4440-bb81-425b-b37f-d051ad2acb52"
      },
      "outputs": [
        {
          "output_type": "stream",
          "name": "stdout",
          "text": [
            "Training Data Shape: (2907, 10070)\n",
            "Testing Data Shape: (1939, 10070)\n"
          ]
        }
      ],
      "source": [
        "from sklearn.model_selection import train_test_split\n",
        "X_train, X_test, y_train, y_test = train_test_split(X,y,\n",
        "                                    test_size = 0.4,\n",
        "                                    random_state=1)\n",
        "X_test.shape\n",
        "\n",
        "print(\"Training Data Shape:\", X_train.shape)\n",
        "print(\"Testing Data Shape:\", X_test.shape)"
      ]
    },
    {
      "cell_type": "code",
      "execution_count": 127,
      "metadata": {
        "id": "Ww-l5h7z2rVd",
        "colab": {
          "base_uri": "https://localhost:8080/"
        },
        "outputId": "f4e50fe2-ddae-4e04-f66a-74e1d1b9f2f4"
      },
      "outputs": [
        {
          "output_type": "stream",
          "name": "stdout",
          "text": [
            "Confusion Matrix for Training Data:\n",
            "[[ 162    4  191]\n",
            " [ 120  283 1346]\n",
            " [  20    2  779]]\n",
            "\n",
            "Classification Report for Training Data:\n",
            "              precision    recall  f1-score   support\n",
            "\n",
            "          -1       0.54      0.45      0.49       357\n",
            "           0       0.98      0.16      0.28      1749\n",
            "           1       0.34      0.97      0.50       801\n",
            "\n",
            "    accuracy                           0.42      2907\n",
            "   macro avg       0.62      0.53      0.42      2907\n",
            "weighted avg       0.75      0.42      0.37      2907\n",
            "\n",
            "[[  67    2  178]\n",
            " [  47   77 1006]\n",
            " [  42    4  516]]\n",
            "              precision    recall  f1-score   support\n",
            "\n",
            "          -1       0.43      0.27      0.33       247\n",
            "           0       0.93      0.07      0.13      1130\n",
            "           1       0.30      0.92      0.46       562\n",
            "\n",
            "    accuracy                           0.34      1939\n",
            "   macro avg       0.55      0.42      0.31      1939\n",
            "weighted avg       0.68      0.34      0.25      1939\n",
            "\n"
          ]
        }
      ],
      "source": [
        "#--------------------------------------------------\n",
        "## ----------- K-NN Classifier ------------------##\n",
        "#--------------------------------------------------\n",
        "from sklearn.preprocessing import StandardScaler\n",
        "from sklearn.pipeline import Pipeline\n",
        "from sklearn.neighbors import KNeighborsClassifier\n",
        "from sklearn.metrics import classification_report\n",
        "from sklearn.metrics import confusion_matrix\n",
        "from sklearn.metrics import roc_auc_score\n",
        "\n",
        "steps = [('scaler', StandardScaler(with_mean=False)),\n",
        "         ('knn', KNeighborsClassifier(n_neighbors = 3))]\n",
        "\n",
        "knn_pipeline = Pipeline(steps)\n",
        "knn_pipeline.fit(X_train, y_train)\n",
        "\n",
        "ypred_train = knn_pipeline.predict(X_train)\n",
        "mat_clf_train = confusion_matrix(y_train, ypred_train)\n",
        "report_clf_train = classification_report(y_train, ypred_train)\n",
        "\n",
        "print(\"Confusion Matrix for Training Data:\")\n",
        "print(mat_clf_train)\n",
        "print(\"\\nClassification Report for Training Data:\")\n",
        "print(report_clf_train)\n",
        "\n",
        "ypred_test = knn_pipeline.predict(X_test)\n",
        "mat_clf = confusion_matrix(y_test, ypred_test)\n",
        "report_clf = classification_report(y_test, ypred_test)\n",
        "\n",
        "print(mat_clf)\n",
        "print(report_clf)"
      ]
    },
    {
      "cell_type": "code",
      "source": [
        "#--------------------------------------------------\n",
        "## ----------- Logistic Regresion ------------------##\n",
        "#--------------------------------------------------\n",
        "from sklearn.preprocessing import StandardScaler\n",
        "from sklearn.pipeline import Pipeline\n",
        "from sklearn.linear_model import LogisticRegression\n",
        "\n",
        "steps = [('scaler', StandardScaler(with_mean=False)),\n",
        "         ('logReg', LogisticRegression(penalty = \"l2\", C = 1.0, solver='saga', max_iter=5000))]\n",
        "\n",
        "LR_pipeline = Pipeline(steps)\n",
        "LR_pipeline.fit(X_train, y_train)\n",
        "\n",
        "ypred_train = LR_pipeline.predict(X_train)\n",
        "mat_clf_train = confusion_matrix(y_train, ypred_train)\n",
        "report_clf_train = classification_report(y_train, ypred_train)\n",
        "\n",
        "print(\"Confusion Matrix for Training Data:\")\n",
        "print(mat_clf_train)\n",
        "print(\"\\nClassification Report for Training Data:\")\n",
        "print(report_clf_train)\n",
        "\n",
        "ypred_test = LR_pipeline.predict(X_test)\n",
        "mat_clf = confusion_matrix(y_test, ypred_test)\n",
        "report_clf = classification_report(y_test, ypred_test)\n",
        "\n",
        "print(mat_clf)\n",
        "print(report_clf)\n"
      ],
      "metadata": {
        "colab": {
          "base_uri": "https://localhost:8080/"
        },
        "id": "oMemWLgBXoVL",
        "outputId": "831b4027-1c4c-424c-d7af-8ac07e496803"
      },
      "execution_count": 128,
      "outputs": [
        {
          "output_type": "stream",
          "name": "stdout",
          "text": [
            "Confusion Matrix for Training Data:\n",
            "[[ 357    0    0]\n",
            " [   0 1749    0]\n",
            " [   0    0  801]]\n",
            "\n",
            "Classification Report for Training Data:\n",
            "              precision    recall  f1-score   support\n",
            "\n",
            "          -1       1.00      1.00      1.00       357\n",
            "           0       1.00      1.00      1.00      1749\n",
            "           1       1.00      1.00      1.00       801\n",
            "\n",
            "    accuracy                           1.00      2907\n",
            "   macro avg       1.00      1.00      1.00      2907\n",
            "weighted avg       1.00      1.00      1.00      2907\n",
            "\n",
            "[[125  81  41]\n",
            " [ 33 948 149]\n",
            " [ 23 239 300]]\n",
            "              precision    recall  f1-score   support\n",
            "\n",
            "          -1       0.69      0.51      0.58       247\n",
            "           0       0.75      0.84      0.79      1130\n",
            "           1       0.61      0.53      0.57       562\n",
            "\n",
            "    accuracy                           0.71      1939\n",
            "   macro avg       0.68      0.63      0.65      1939\n",
            "weighted avg       0.70      0.71      0.70      1939\n",
            "\n"
          ]
        }
      ]
    },
    {
      "cell_type": "code",
      "source": [
        "#--------------------------------------------------\n",
        "## ------------ SVM Classifier ------------------##\n",
        "#--------------------------------------------------\n",
        "from sklearn.preprocessing import StandardScaler\n",
        "from sklearn.pipeline import Pipeline\n",
        "from sklearn.svm import SVC\n",
        "\n",
        "## Linear Kernel  ---------------\n",
        "steps = [('scaler', StandardScaler(with_mean=False)),\n",
        "         ('svc', SVC(kernel = 'linear',\n",
        "                     class_weight='balanced'))]\n",
        "\n",
        "svcL_pipeline = Pipeline(steps)\n",
        "svcL_pipeline.fit(X_train, y_train)\n",
        "\n",
        "ypred_train = svcL_pipeline.predict(X_train)\n",
        "mat_clf_train = confusion_matrix(y_train, ypred_train)\n",
        "report_clf_train = classification_report(y_train, ypred_train)\n",
        "\n",
        "print(\"Confusion Matrix for Training Data:\")\n",
        "print(mat_clf_train)\n",
        "print(\"\\nClassification Report for Training Data:\")\n",
        "print(report_clf_train)\n",
        "\n",
        "ypred_test = svcL_pipeline.predict(X_test)\n",
        "mat_clf = confusion_matrix(y_test, ypred_test)\n",
        "report_clf = classification_report(y_test, ypred_test)\n",
        "\n",
        "print(mat_clf)\n",
        "print(report_clf)"
      ],
      "metadata": {
        "colab": {
          "base_uri": "https://localhost:8080/"
        },
        "id": "DY6dQSrLa7pw",
        "outputId": "3e257ce0-3017-4c59-d541-db9d57c244d4"
      },
      "execution_count": 129,
      "outputs": [
        {
          "output_type": "stream",
          "name": "stdout",
          "text": [
            "Confusion Matrix for Training Data:\n",
            "[[ 357    0    0]\n",
            " [   0 1749    0]\n",
            " [   0    0  801]]\n",
            "\n",
            "Classification Report for Training Data:\n",
            "              precision    recall  f1-score   support\n",
            "\n",
            "          -1       1.00      1.00      1.00       357\n",
            "           0       1.00      1.00      1.00      1749\n",
            "           1       1.00      1.00      1.00       801\n",
            "\n",
            "    accuracy                           1.00      2907\n",
            "   macro avg       1.00      1.00      1.00      2907\n",
            "weighted avg       1.00      1.00      1.00      2907\n",
            "\n",
            "[[122  75  50]\n",
            " [ 43 879 208]\n",
            " [ 41 241 280]]\n",
            "              precision    recall  f1-score   support\n",
            "\n",
            "          -1       0.59      0.49      0.54       247\n",
            "           0       0.74      0.78      0.76      1130\n",
            "           1       0.52      0.50      0.51       562\n",
            "\n",
            "    accuracy                           0.66      1939\n",
            "   macro avg       0.62      0.59      0.60      1939\n",
            "weighted avg       0.65      0.66      0.66      1939\n",
            "\n"
          ]
        }
      ]
    },
    {
      "cell_type": "code",
      "source": [
        "## Polynomial Kernel -----------------------\n",
        "steps = [('scaler', StandardScaler(with_mean=False)),\n",
        "         ('svc', SVC(kernel = 'poly', degree = 3,\n",
        "                     class_weight='balanced'))]\n",
        "\n",
        "svcPoly_pipeline = Pipeline(steps)\n",
        "svcPoly_pipeline.fit(X_train, y_train)\n",
        "\n",
        "ypred_train = svcPoly_pipeline.predict(X_train)\n",
        "mat_clf_train = confusion_matrix(y_train, ypred_train)\n",
        "report_clf_train = classification_report(y_train, ypred_train)\n",
        "\n",
        "print(\"Confusion Matrix for Training Data:\")\n",
        "print(mat_clf_train)\n",
        "print(\"\\nClassification Report for Training Data:\")\n",
        "print(report_clf_train)\n",
        "\n",
        "ypred_test = svcPoly_pipeline.predict(X_test)\n",
        "mat_clf = confusion_matrix(y_test, ypred_test)\n",
        "report_clf = classification_report(y_test, ypred_test)\n",
        "\n",
        "print(mat_clf)\n",
        "print(report_clf)"
      ],
      "metadata": {
        "colab": {
          "base_uri": "https://localhost:8080/"
        },
        "id": "KfkqKdRVcZ-J",
        "outputId": "ec87b015-0dcf-4178-dda8-dea88c59b122"
      },
      "execution_count": 130,
      "outputs": [
        {
          "output_type": "stream",
          "name": "stdout",
          "text": [
            "Confusion Matrix for Training Data:\n",
            "[[ 214  143    0]\n",
            " [   0 1747    2]\n",
            " [   0  269  532]]\n",
            "\n",
            "Classification Report for Training Data:\n",
            "              precision    recall  f1-score   support\n",
            "\n",
            "          -1       1.00      0.60      0.75       357\n",
            "           0       0.81      1.00      0.89      1749\n",
            "           1       1.00      0.66      0.80       801\n",
            "\n",
            "    accuracy                           0.86      2907\n",
            "   macro avg       0.94      0.75      0.81      2907\n",
            "weighted avg       0.88      0.86      0.85      2907\n",
            "\n",
            "[[   5  241    1]\n",
            " [   2 1121    7]\n",
            " [   4  551    7]]\n",
            "              precision    recall  f1-score   support\n",
            "\n",
            "          -1       0.45      0.02      0.04       247\n",
            "           0       0.59      0.99      0.74      1130\n",
            "           1       0.47      0.01      0.02       562\n",
            "\n",
            "    accuracy                           0.58      1939\n",
            "   macro avg       0.50      0.34      0.27      1939\n",
            "weighted avg       0.53      0.58      0.44      1939\n",
            "\n"
          ]
        }
      ]
    },
    {
      "cell_type": "code",
      "source": [
        "## RBF Kernel -----------------------\n",
        "steps = [('scaler', StandardScaler(with_mean=False)),\n",
        "         ('svc', SVC(kernel = 'rbf', gamma = 'scale',\n",
        "                     class_weight='balanced'))]\n",
        "\n",
        "svcRBF_pipeline = Pipeline(steps)\n",
        "svcRBF_pipeline.fit(X_train, y_train)\n",
        "\n",
        "ypred_train = svcRBF_pipeline.predict(X_train)\n",
        "mat_clf_train = confusion_matrix(y_train, ypred_train)\n",
        "report_clf_train = classification_report(y_train, ypred_train)\n",
        "\n",
        "print(\"Confusion Matrix for Training Data:\")\n",
        "print(mat_clf_train)\n",
        "print(\"\\nClassification Report for Training Data:\")\n",
        "print(report_clf_train)\n",
        "\n",
        "ypred_test = svcRBF_pipeline.predict(X_test)\n",
        "mat_clf = confusion_matrix(y_test, ypred_test)\n",
        "report_clf = classification_report(y_test, ypred_test)\n",
        "\n",
        "print(mat_clf)\n",
        "print(report_clf)"
      ],
      "metadata": {
        "colab": {
          "base_uri": "https://localhost:8080/"
        },
        "id": "yC45-ZBJcrP3",
        "outputId": "0329c633-563a-4ff4-d1eb-beed280c9a27"
      },
      "execution_count": 131,
      "outputs": [
        {
          "output_type": "stream",
          "name": "stdout",
          "text": [
            "Confusion Matrix for Training Data:\n",
            "[[ 357    0    0]\n",
            " [  19 1714   16]\n",
            " [  14    3  784]]\n",
            "\n",
            "Classification Report for Training Data:\n",
            "              precision    recall  f1-score   support\n",
            "\n",
            "          -1       0.92      1.00      0.96       357\n",
            "           0       1.00      0.98      0.99      1749\n",
            "           1       0.98      0.98      0.98       801\n",
            "\n",
            "    accuracy                           0.98      2907\n",
            "   macro avg       0.96      0.99      0.97      2907\n",
            "weighted avg       0.98      0.98      0.98      2907\n",
            "\n",
            "[[ 119  104   24]\n",
            " [  22 1046   62]\n",
            " [  34  308  220]]\n",
            "              precision    recall  f1-score   support\n",
            "\n",
            "          -1       0.68      0.48      0.56       247\n",
            "           0       0.72      0.93      0.81      1130\n",
            "           1       0.72      0.39      0.51       562\n",
            "\n",
            "    accuracy                           0.71      1939\n",
            "   macro avg       0.71      0.60      0.63      1939\n",
            "weighted avg       0.71      0.71      0.69      1939\n",
            "\n"
          ]
        }
      ]
    },
    {
      "cell_type": "code",
      "execution_count": 132,
      "metadata": {
        "id": "RTuPXUK82rVd",
        "colab": {
          "base_uri": "https://localhost:8080/"
        },
        "outputId": "4c0d585d-e316-4d52-cab7-93d69e87679d"
      },
      "outputs": [
        {
          "output_type": "stream",
          "name": "stdout",
          "text": [
            "Confusion Matrix for Training Data:\n",
            "[[ 357    0    0]\n",
            " [  48 1575  126]\n",
            " [  58    0  743]]\n",
            "\n",
            "Classification Report for Training Data:\n",
            "              precision    recall  f1-score   support\n",
            "\n",
            "          -1       0.77      1.00      0.87       357\n",
            "           0       1.00      0.90      0.95      1749\n",
            "           1       0.86      0.93      0.89       801\n",
            "\n",
            "    accuracy                           0.92      2907\n",
            "   macro avg       0.88      0.94      0.90      2907\n",
            "weighted avg       0.93      0.92      0.92      2907\n",
            "\n",
            "[[100  89  58]\n",
            " [ 77 787 266]\n",
            " [ 67 260 235]]\n",
            "              precision    recall  f1-score   support\n",
            "\n",
            "          -1       0.41      0.40      0.41       247\n",
            "           0       0.69      0.70      0.69      1130\n",
            "           1       0.42      0.42      0.42       562\n",
            "\n",
            "    accuracy                           0.58      1939\n",
            "   macro avg       0.51      0.51      0.51      1939\n",
            "weighted avg       0.58      0.58      0.58      1939\n",
            "\n"
          ]
        }
      ],
      "source": [
        "#--------------------------------------------------\n",
        "## ----------- Naive-Bayes Classifier ------------------##\n",
        "#--------------------------------------------------\n",
        "## GaussianNB  ---------------\n",
        "from sklearn.naive_bayes import GaussianNB\n",
        "gnb = GaussianNB()\n",
        "gnb.fit(X_train.toarray(), y_train)\n",
        "\n",
        "ypred_train = gnb.predict(X_train.toarray())\n",
        "mat_clf_train = confusion_matrix(y_train, ypred_train)\n",
        "report_clf_train = classification_report(y_train, ypred_train)\n",
        "\n",
        "print(\"Confusion Matrix for Training Data:\")\n",
        "print(mat_clf_train)\n",
        "print(\"\\nClassification Report for Training Data:\")\n",
        "print(report_clf_train)\n",
        "\n",
        "ypred_test = gnb.predict(X_test.toarray())\n",
        "mat_clf = confusion_matrix(y_test, ypred_test)\n",
        "report_clf = classification_report(y_test, ypred_test)\n",
        "\n",
        "print(mat_clf)\n",
        "print(report_clf)"
      ]
    },
    {
      "cell_type": "code",
      "source": [
        "## MultinomialNB  ---------------\n",
        "from sklearn.naive_bayes import MultinomialNB\n",
        "mnb = MultinomialNB(alpha=1.0)\n",
        "mnb.fit(X_train.toarray(), y_train)\n",
        "\n",
        "ypred_train = mnb.predict(X_train.toarray())\n",
        "mat_clf_train = confusion_matrix(y_train, ypred_train)\n",
        "report_clf_train = classification_report(y_train, ypred_train)\n",
        "\n",
        "print(\"Confusion Matrix for Training Data:\")\n",
        "print(mat_clf_train)\n",
        "print(\"\\nClassification Report for Training Data:\")\n",
        "print(report_clf_train)\n",
        "\n",
        "ypred_test = mnb.predict(X_test.toarray())\n",
        "mat_clf = confusion_matrix(y_test, ypred_test)\n",
        "report_clf = classification_report(y_test, ypred_test)\n",
        "\n",
        "print(mat_clf)\n",
        "print(report_clf)"
      ],
      "metadata": {
        "colab": {
          "base_uri": "https://localhost:8080/"
        },
        "id": "yBG8UrYxdUvk",
        "outputId": "f1308787-1f1a-4f33-b854-44fd28f03599"
      },
      "execution_count": 133,
      "outputs": [
        {
          "output_type": "stream",
          "name": "stdout",
          "text": [
            "Confusion Matrix for Training Data:\n",
            "[[  14  255   88]\n",
            " [   0 1734   15]\n",
            " [   0  519  282]]\n",
            "\n",
            "Classification Report for Training Data:\n",
            "              precision    recall  f1-score   support\n",
            "\n",
            "          -1       1.00      0.04      0.08       357\n",
            "           0       0.69      0.99      0.81      1749\n",
            "           1       0.73      0.35      0.48       801\n",
            "\n",
            "    accuracy                           0.70      2907\n",
            "   macro avg       0.81      0.46      0.46      2907\n",
            "weighted avg       0.74      0.70      0.63      2907\n",
            "\n",
            "[[   4  178   65]\n",
            " [   0 1119   11]\n",
            " [   1  424  137]]\n",
            "              precision    recall  f1-score   support\n",
            "\n",
            "          -1       0.80      0.02      0.03       247\n",
            "           0       0.65      0.99      0.78      1130\n",
            "           1       0.64      0.24      0.35       562\n",
            "\n",
            "    accuracy                           0.65      1939\n",
            "   macro avg       0.70      0.42      0.39      1939\n",
            "weighted avg       0.67      0.65      0.56      1939\n",
            "\n"
          ]
        }
      ]
    },
    {
      "cell_type": "code",
      "source": [
        "## BernoulliNB  ---------------\n",
        "from sklearn.naive_bayes import BernoulliNB\n",
        "bnb = BernoulliNB(alpha=1.0)\n",
        "bnb.fit(X_train, y_train)\n",
        "\n",
        "ypred_train = bnb.predict(X_train.toarray())\n",
        "mat_clf_train = confusion_matrix(y_train, ypred_train)\n",
        "report_clf_train = classification_report(y_train, ypred_train)\n",
        "\n",
        "print(\"Confusion Matrix for Training Data:\")\n",
        "print(mat_clf_train)\n",
        "print(\"\\nClassification Report for Training Data:\")\n",
        "print(report_clf_train)\n",
        "\n",
        "ypred_test = bnb.predict(X_test.toarray())\n",
        "mat_clf = confusion_matrix(y_test, ypred_test)\n",
        "report_clf = classification_report(y_test, ypred_test)\n",
        "\n",
        "print(mat_clf)\n",
        "print(report_clf)"
      ],
      "metadata": {
        "colab": {
          "base_uri": "https://localhost:8080/"
        },
        "id": "5l9jIvgTd93E",
        "outputId": "c30c79fa-c8ea-4f78-f442-6c8e6d629005"
      },
      "execution_count": 134,
      "outputs": [
        {
          "output_type": "stream",
          "name": "stdout",
          "text": [
            "Confusion Matrix for Training Data:\n",
            "[[  52  189  116]\n",
            " [   2 1729   18]\n",
            " [   0  333  468]]\n",
            "\n",
            "Classification Report for Training Data:\n",
            "              precision    recall  f1-score   support\n",
            "\n",
            "          -1       0.96      0.15      0.25       357\n",
            "           0       0.77      0.99      0.86      1749\n",
            "           1       0.78      0.58      0.67       801\n",
            "\n",
            "    accuracy                           0.77      2907\n",
            "   macro avg       0.84      0.57      0.59      2907\n",
            "weighted avg       0.79      0.77      0.74      2907\n",
            "\n",
            "[[   9  133  105]\n",
            " [   2 1068   60]\n",
            " [   0  340  222]]\n",
            "              precision    recall  f1-score   support\n",
            "\n",
            "          -1       0.82      0.04      0.07       247\n",
            "           0       0.69      0.95      0.80      1130\n",
            "           1       0.57      0.40      0.47       562\n",
            "\n",
            "    accuracy                           0.67      1939\n",
            "   macro avg       0.69      0.46      0.45      1939\n",
            "weighted avg       0.67      0.67      0.61      1939\n",
            "\n"
          ]
        }
      ]
    },
    {
      "cell_type": "code",
      "execution_count": 134,
      "metadata": {
        "id": "qM6xH3x42rVd"
      },
      "outputs": [],
      "source": []
    }
  ],
  "metadata": {
    "kernelspec": {
      "display_name": "base",
      "language": "python",
      "name": "python3"
    },
    "language_info": {
      "codemirror_mode": {
        "name": "ipython",
        "version": 3
      },
      "file_extension": ".py",
      "mimetype": "text/x-python",
      "name": "python",
      "nbconvert_exporter": "python",
      "pygments_lexer": "ipython3",
      "version": "3.9.13"
    },
    "colab": {
      "provenance": [],
      "include_colab_link": true
    }
  },
  "nbformat": 4,
  "nbformat_minor": 0
}